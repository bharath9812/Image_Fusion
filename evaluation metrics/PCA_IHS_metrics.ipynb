{
 "cells": [
  {
   "cell_type": "markdown",
   "id": "12e536e2-a042-486c-add9-683389a496e9",
   "metadata": {},
   "source": [
    "## Reference Image"
   ]
  },
  {
   "cell_type": "code",
   "execution_count": 1,
   "id": "477fcb01-5ad3-4979-8a85-ea36e670f67f",
   "metadata": {},
   "outputs": [],
   "source": [
    "import cv2\n",
    "import numpy as np"
   ]
  },
  {
   "cell_type": "code",
   "execution_count": 2,
   "id": "c613fdcc-d59c-46dd-8286-cd3c95a8b112",
   "metadata": {},
   "outputs": [],
   "source": [
    "# Load your images\n",
    "img1 = cv2.imread('D:/SDP/Imfusion-main/screenshots/medical1.png', cv2.IMREAD_GRAYSCALE)\n",
    "img2 = cv2.imread('D:/SDP/Imfusion-main/screenshots/medical2.png', cv2.IMREAD_GRAYSCALE)\n",
    "fused_img = cv2.imread('D:/SDP/fused_PCA.png', cv2.IMREAD_GRAYSCALE)\n",
    "\n",
    "def resize_images(*images):\n",
    "    # Find the smallest dimensions in the set\n",
    "    min_height = min(image.shape[0] for image in images)\n",
    "    min_width = min(image.shape[1] for image in images)\n",
    "    resized_images = [cv2.resize(img, (min_width, min_height), interpolation=cv2.INTER_AREA) for img in images]\n",
    "    return resized_images\n",
    "\n",
    "\n",
    "img1, img2, fused_img = resize_images(img1, img2, fused_img)"
   ]
  },
  {
   "cell_type": "code",
   "execution_count": 3,
   "id": "65a3aadd-ffe8-4bc5-ba40-d40b184301d4",
   "metadata": {},
   "outputs": [
    {
     "name": "stdout",
     "output_type": "stream",
     "text": [
      "QNCIE value: 0.9220934482333395\n"
     ]
    }
   ],
   "source": [
    "import numpy as np\n",
    "\n",
    "def compute_ncc(image1, image2):\n",
    "    \"\"\"\n",
    "    Compute the Nonlinear Correlation Coefficient (NCC) between two images.\n",
    "    \n",
    "    Parameters:\n",
    "        image1: numpy.ndarray, source image 1\n",
    "        image2: numpy.ndarray, source image 2\n",
    "    \n",
    "    Returns:\n",
    "        float, NCC value\n",
    "    \"\"\"\n",
    "    mean1 = np.mean(image1)\n",
    "    mean2 = np.mean(image2)\n",
    "    std1 = np.std(image1)\n",
    "    std2 = np.std(image2)\n",
    "    \n",
    "    NCC = np.mean((image1 - mean1) * (image2 - mean2)) / (std1 * std2)\n",
    "    \n",
    "    return NCC\n",
    "\n",
    "def compute_ncc_matrix(img1, img2, fused_img):\n",
    "    \"\"\"\n",
    "    Compute the nonlinear correlation matrix R using NCC values.\n",
    "    \n",
    "    Parameters:\n",
    "        img1: numpy.ndarray, source image 1\n",
    "        img2: numpy.ndarray, source image 2\n",
    "        fused_img: numpy.ndarray, fused image\n",
    "    \n",
    "    Returns:\n",
    "        numpy.ndarray, nonlinear correlation matrix R\n",
    "    \"\"\"\n",
    "    NCCA_B = compute_ncc(img1, img2)\n",
    "    NCCA_F = compute_ncc(img1, fused_img)\n",
    "    NCCB_A = compute_ncc(img2, img1)\n",
    "    NCCB_F = compute_ncc(img2, fused_img)\n",
    "    NCCF_A = compute_ncc(fused_img, img1)\n",
    "    NCCF_B = compute_ncc(fused_img, img2)\n",
    "    \n",
    "    R = np.array([[1, NCCA_B, NCCA_F],\n",
    "                  [NCCB_A, 1, NCCB_F],\n",
    "                  [NCCF_A, NCCF_B, 1]])\n",
    "    \n",
    "    return R\n",
    "\n",
    "def compute_qncie(img1, img2, fused_img):\n",
    "    \"\"\"\n",
    "    Compute the Nonlinear Correlation Information Entropy (QNCIE) between source images and fused image.\n",
    "    \n",
    "    Parameters:\n",
    "        img1: numpy.ndarray, source image 1\n",
    "        img2: numpy.ndarray, source image 2\n",
    "        fused_img: numpy.ndarray, fused image\n",
    "    \n",
    "    Returns:\n",
    "        float, QNCIE value\n",
    "    \"\"\"\n",
    "    R = compute_ncc_matrix(img1, img2, fused_img)\n",
    "    eigenvalues = np.linalg.eigvals(R)\n",
    "    qncie = 1 + np.sum((eigenvalues/3) * np.log2(eigenvalues/3)) / np.log2(256)\n",
    "    \n",
    "    return qncie\n",
    "\n",
    "# Example usage:\n",
    "qncie_value = compute_qncie(img1, img2, fused_img)\n",
    "print(\"QNCIE value:\", qncie_value)"
   ]
  },
  {
   "cell_type": "code",
   "execution_count": null,
   "id": "3f0ac5ec-f450-4391-8cc1-360894c8c134",
   "metadata": {},
   "outputs": [],
   "source": []
  },
  {
   "cell_type": "code",
   "execution_count": 4,
   "id": "f4f9d052-b8c1-46bd-8b27-d1d5204b2d6b",
   "metadata": {},
   "outputs": [
    {
     "name": "stdout",
     "output_type": "stream",
     "text": [
      "FMI value: 2.690387698448898\n"
     ]
    }
   ],
   "source": [
    "from sklearn.feature_selection import mutual_info_regression\n",
    "\n",
    "def compute_mi(image1, image2):\n",
    "    \"\"\"\n",
    "    Compute Mutual Information (MI) between two images.\n",
    "    \n",
    "    Parameters:\n",
    "        image1: numpy.ndarray, source image 1\n",
    "        image2: numpy.ndarray, source image 2\n",
    "    \n",
    "    Returns:\n",
    "        float, MI value\n",
    "    \"\"\"\n",
    "    # Flatten images to 1D arrays\n",
    "    flat_image1 = image1.flatten()\n",
    "    flat_image2 = image2.flatten()\n",
    "    \n",
    "    # Compute mutual information\n",
    "    mi = mutual_info_regression(flat_image1.reshape(-1, 1), flat_image2)[0]\n",
    "    \n",
    "    return mi\n",
    "\n",
    "def compute_fmi(img1, img2, fused_img):\n",
    "    \"\"\"\n",
    "    Compute the Feature Mutual Information (FMI) between source images and fused image.\n",
    "    \n",
    "    Parameters:\n",
    "        img1: numpy.ndarray, source image 1\n",
    "        img2: numpy.ndarray, source image 2\n",
    "        fused_img: numpy.ndarray, fused image\n",
    "    \n",
    "    Returns:\n",
    "        float, FMI value\n",
    "    \"\"\"\n",
    "    # Compute Mutual Information between each source image and fused image\n",
    "    mi_af = compute_mi(img1, fused_img)\n",
    "    mi_bf = compute_mi(img2, fused_img)\n",
    "    \n",
    "    # Sum up the Mutual Information values\n",
    "    fmi = mi_af + mi_bf\n",
    "    \n",
    "    return fmi\n",
    "\n",
    "# Example usage:\n",
    "fmi_value = compute_fmi(img1, img2, fused_img)\n",
    "print(\"FMI value:\", fmi_value)\n"
   ]
  },
  {
   "cell_type": "code",
   "execution_count": null,
   "id": "0bc2dbb4-adba-42c9-b167-c7a498bda750",
   "metadata": {},
   "outputs": [],
   "source": []
  },
  {
   "cell_type": "code",
   "execution_count": 5,
   "id": "0d08b82d-6790-42bd-93b5-e3e29ce07f28",
   "metadata": {},
   "outputs": [
    {
     "name": "stdout",
     "output_type": "stream",
     "text": [
      "NMI value: 3.089800446832877\n"
     ]
    }
   ],
   "source": [
    "import numpy as np\n",
    "\n",
    "def compute_entropy(image):\n",
    "    \"\"\"\n",
    "    Compute the entropy of an image.\n",
    "    \n",
    "    Parameters:\n",
    "        image: numpy.ndarray, input image\n",
    "    \n",
    "    Returns:\n",
    "        float, entropy value\n",
    "    \"\"\"\n",
    "    # Flatten image to 1D array\n",
    "    flat_image = image.flatten()\n",
    "    \n",
    "    # Compute histogram\n",
    "    hist, _ = np.histogram(flat_image, bins=256, density=True)\n",
    "    \n",
    "    # Remove zeros to avoid log(0) issues\n",
    "    hist = hist[hist != 0]\n",
    "    \n",
    "    # Compute entropy\n",
    "    entropy = -np.sum(hist * np.log2(hist))\n",
    "    \n",
    "    return entropy\n",
    "\n",
    "def compute_mi(image1, image2):\n",
    "    \"\"\"\n",
    "    Compute Mutual Information (MI) between two images.\n",
    "    \n",
    "    Parameters:\n",
    "        image1: numpy.ndarray, source image 1\n",
    "        image2: numpy.ndarray, source image 2\n",
    "    \n",
    "    Returns:\n",
    "        float, MI value\n",
    "    \"\"\"\n",
    "    # Flatten images to 1D arrays\n",
    "    flat_image1 = image1.flatten()\n",
    "    flat_image2 = image2.flatten()\n",
    "    \n",
    "    # Compute joint histogram\n",
    "    joint_hist, _, _ = np.histogram2d(flat_image1, flat_image2, bins=256, density=True)\n",
    "    \n",
    "    # Remove zeros to avoid log(0) issues\n",
    "    joint_hist = joint_hist[joint_hist != 0]\n",
    "    \n",
    "    # Compute mutual information\n",
    "    mi = -np.sum(joint_hist * np.log2(joint_hist))\n",
    "    \n",
    "    return mi\n",
    "\n",
    "def compute_nmi(img1, img2, fused_img):\n",
    "    \"\"\"\n",
    "    Compute the Normalized Mutual Information (NMI) between source images and fused image.\n",
    "    \n",
    "    Parameters:\n",
    "        img1: numpy.ndarray, source image 1\n",
    "        img2: numpy.ndarray, source image 2\n",
    "        fused_img: numpy.ndarray, fused image\n",
    "    \n",
    "    Returns:\n",
    "        float, NMI value\n",
    "    \"\"\"\n",
    "    # Compute entropy of each image\n",
    "    entropy_a = compute_entropy(img1)\n",
    "    entropy_b = compute_entropy(img2)\n",
    "    entropy_f = compute_entropy(fused_img)\n",
    "    \n",
    "    # Compute mutual information between each source image and fused image\n",
    "    mi_af = compute_mi(img1, fused_img)\n",
    "    mi_bf = compute_mi(img2, fused_img)\n",
    "    \n",
    "    # Compute NMI\n",
    "    nmi = (2 * (mi_af / (entropy_a + entropy_f))) + (2 * (mi_bf / (entropy_b + entropy_f)))\n",
    "    \n",
    "    return nmi\n",
    "\n",
    "# Example usage:\n",
    "nmi_value = compute_nmi(img1, img2, fused_img)\n",
    "print(\"NMI value:\", nmi_value)\n"
   ]
  },
  {
   "cell_type": "code",
   "execution_count": null,
   "id": "4442ac20-c6a0-4c2c-a775-4c1cc312ce5f",
   "metadata": {},
   "outputs": [],
   "source": []
  },
  {
   "cell_type": "code",
   "execution_count": 6,
   "id": "19db77d2-e39f-4db2-a726-4b81b34fc723",
   "metadata": {},
   "outputs": [
    {
     "name": "stdout",
     "output_type": "stream",
     "text": [
      "{'SSIM_CT': 0.38980062162989865, 'SSIM_MRI': 0.6020671255162535, 'MSE_CT': 1151.8423453493547, 'MSE_MRI': 1276.1882510013352, 'MI_CT': 1.4306246921766002, 'MI_MRI': 2.1500639717325467}\n"
     ]
    }
   ],
   "source": [
    "import cv2\n",
    "import numpy as np\n",
    "from skimage.metrics import structural_similarity as ssim\n",
    "from skimage.metrics import mean_squared_error\n",
    "\n",
    "def mutual_information(image1, image2):\n",
    "    hist_2d, _, _ = np.histogram2d(image1.ravel(), image2.ravel(), bins=256)\n",
    "    pxy = hist_2d / float(np.sum(hist_2d))\n",
    "    px = np.sum(pxy, axis=1)\n",
    "    py = np.sum(pxy, axis=0)\n",
    "    px_py = px[:, None] * py[None, :]\n",
    "    nzs = pxy > 0\n",
    "    return np.sum(pxy[nzs] * np.log(pxy[nzs] / px_py[nzs]))\n",
    "\n",
    "def resize_images(*images):\n",
    "    # Find the smallest dimensions in the set\n",
    "    min_height = min(image.shape[0] for image in images)\n",
    "    min_width = min(image.shape[1] for image in images)\n",
    "    resized_images = [cv2.resize(img, (min_width, min_height), interpolation=cv2.INTER_AREA) for img in images]\n",
    "    return resized_images\n",
    "\n",
    "def calculate_metrics(img1, img2, fused_img):\n",
    "    metrics = {}\n",
    "    # Resize images to the smallest common dimensions\n",
    "    img1, img2, fused_img = resize_images(img1, img2, fused_img)\n",
    "    metrics['SSIM_CT'] = ssim(img1, fused_img, data_range=fused_img.max() - fused_img.min())\n",
    "    metrics['SSIM_MRI'] = ssim(img2, fused_img, data_range=fused_img.max() - fused_img.min())\n",
    "    metrics['MSE_CT'] = mean_squared_error(img1, fused_img)\n",
    "    metrics['MSE_MRI'] = mean_squared_error(img2, fused_img)\n",
    "    metrics['MI_CT'] = mutual_information(img1, fused_img)\n",
    "    metrics['MI_MRI'] = mutual_information(img2, fused_img)\n",
    "    # Add more metrics here if needed\n",
    "    return metrics\n",
    "\n",
    "# Load your images\n",
    "img1 = cv2.imread('D:/SDP/Imfusion-main/screenshots/medical1.png', cv2.IMREAD_GRAYSCALE)\n",
    "img2 = cv2.imread('D:/SDP/Imfusion-main/screenshots/medical2.png', cv2.IMREAD_GRAYSCALE)\n",
    "fused_img = cv2.imread('D:/SDP/fused_PCA.png', cv2.IMREAD_GRAYSCALE)\n",
    "\n",
    "# Calculate the metrics\n",
    "results = calculate_metrics(img1, img2, fused_img)\n",
    "print(results)\n"
   ]
  },
  {
   "cell_type": "code",
   "execution_count": null,
   "id": "51a1b77a-911e-4726-acab-0f1f83353823",
   "metadata": {},
   "outputs": [],
   "source": []
  },
  {
   "cell_type": "markdown",
   "id": "51609c7f-ef8e-4a47-bfa9-97ee2117852e",
   "metadata": {},
   "source": [
    "## No-Reference"
   ]
  },
  {
   "cell_type": "code",
   "execution_count": 7,
   "id": "afc0eede-2962-4675-bb69-032be6c294ec",
   "metadata": {},
   "outputs": [
    {
     "name": "stdout",
     "output_type": "stream",
     "text": [
      "Entropy: 6.000565052032471\n"
     ]
    }
   ],
   "source": [
    "import cv2\n",
    "import numpy as np\n",
    "\n",
    "def calculate_entropy(image):\n",
    "    \"\"\"Calculate the entropy of an image.\"\"\"\n",
    "    # Convert image to grayscale if it's not already\n",
    "    if len(image.shape) == 3:\n",
    "        image = cv2.cvtColor(image, cv2.COLOR_BGR2GRAY)\n",
    "    \n",
    "    # Calculate histogram from 0 to 255\n",
    "    hist = cv2.calcHist([image], [0], None, [256], [0,256])\n",
    "    # Normalize the histogram\n",
    "    hist_norm = hist.ravel()/hist.sum()\n",
    "    # Calculate the entropy\n",
    "    logs = np.log2(hist_norm + 1e-10)  # Add a small value to avoid log(0)\n",
    "    entropy = -1 * (hist_norm * logs).sum()\n",
    "    \n",
    "    return entropy\n",
    "\n",
    "# Load your fused image\n",
    "fused_img = cv2.imread('D:/SDP/fused_PCA.png', cv2.IMREAD_GRAYSCALE)\n",
    "\n",
    "# Calculate the entropy\n",
    "entropy_value = calculate_entropy(fused_img)\n",
    "print(f\"Entropy: {entropy_value}\")\n",
    "\n"
   ]
  },
  {
   "cell_type": "code",
   "execution_count": null,
   "id": "c08751ea-716a-4127-9d78-147bc21714ea",
   "metadata": {},
   "outputs": [],
   "source": []
  },
  {
   "cell_type": "code",
   "execution_count": 8,
   "id": "e98749a9-be1d-4fac-a53e-c0ac5fd592b2",
   "metadata": {},
   "outputs": [
    {
     "name": "stdout",
     "output_type": "stream",
     "text": [
      "Average Gradient: 77.66337745210586\n"
     ]
    }
   ],
   "source": [
    "import cv2\n",
    "import numpy as np\n",
    "\n",
    "def calculate_average_gradient(image):\n",
    "    \"\"\"Calculate the average gradient of an image.\"\"\"\n",
    "    # Ensure the image is in grayscale\n",
    "    if len(image.shape) != 2:\n",
    "        image = cv2.cvtColor(image, cv2.COLOR_BGR2GRAY)\n",
    "    \n",
    "    # Calculate gradients in the x and y directions\n",
    "    grad_x = cv2.Sobel(image, cv2.CV_64F, 1, 0, ksize=3)\n",
    "    grad_y = cv2.Sobel(image, cv2.CV_64F, 0, 1, ksize=3)\n",
    "    \n",
    "    # Calculate the magnitude of the gradients\n",
    "    grad_magnitude = np.sqrt(grad_x**2 + grad_y**2)\n",
    "    \n",
    "    # Calculate the average gradient\n",
    "    average_gradient = np.mean(grad_magnitude)\n",
    "    \n",
    "    return average_gradient\n",
    "\n",
    "# Load your fused image\n",
    "fused_img = cv2.imread('D:/SDP/fused_PCA.png', cv2.IMREAD_GRAYSCALE)\n",
    "\n",
    "# Calculate the average gradient\n",
    "average_gradient_value = calculate_average_gradient(fused_img)\n",
    "print(f\"Average Gradient: {average_gradient_value}\")\n"
   ]
  },
  {
   "cell_type": "code",
   "execution_count": null,
   "id": "a16d038d-9868-4c45-97b7-594d3884cf20",
   "metadata": {},
   "outputs": [],
   "source": []
  },
  {
   "cell_type": "code",
   "execution_count": 9,
   "id": "2393ae13-93b2-4314-95fa-d46ee96027b2",
   "metadata": {},
   "outputs": [
    {
     "name": "stdout",
     "output_type": "stream",
     "text": [
      "Edge-based Similarity Measurement (QAB/F): 653820.2059047013\n"
     ]
    }
   ],
   "source": [
    "import cv2\n",
    "import numpy as np\n",
    "\n",
    "def edge_similarity(image1, image2, fused_image):\n",
    "    \"\"\"Calculate the edge-based similarity measurement between source images and fused image.\"\"\"\n",
    "    # Compute gradients for source images and fused image\n",
    "    grad_x1, grad_y1 = cv2.Sobel(image1, cv2.CV_64F, 1, 0), cv2.Sobel(image1, cv2.CV_64F, 0, 1)\n",
    "    grad_x2, grad_y2 = cv2.Sobel(image2, cv2.CV_64F, 1, 0), cv2.Sobel(image2, cv2.CV_64F, 0, 1)\n",
    "    grad_xf, grad_yf = cv2.Sobel(fused_image, cv2.CV_64F, 1, 0), cv2.Sobel(fused_image, cv2.CV_64F, 0, 1)\n",
    "    \n",
    "    # Calculate gradient magnitudes and angles\n",
    "    magnitude1, angle1 = cv2.cartToPolar(grad_x1, grad_y1)\n",
    "    magnitude2, angle2 = cv2.cartToPolar(grad_x2, grad_y2)\n",
    "    magnitudef, anglef = cv2.cartToPolar(grad_xf, grad_yf)\n",
    "    \n",
    "    # Calculate edge information retention (intensity and orientation)\n",
    "    qa_f = magnitude1 * (1 - np.abs(np.sin(angle1 - anglef)))\n",
    "    qb_f = magnitude2 * (1 - np.abs(np.sin(angle2 - anglef)))\n",
    "    \n",
    "    # Define weights for each source image (example: equal weights)\n",
    "    wa = wb = 0.5  # Adjust these weights as per the importance of each source image\n",
    "    \n",
    "    # Calculate edge-based similarity measure\n",
    "    numerator = np.sum(qa_f * wa + qb_f * wb)\n",
    "    denominator = np.sum(wa + wb)\n",
    "    \n",
    "    qab_f = numerator / denominator if denominator != 0 else 0\n",
    "    \n",
    "    return qab_f\n",
    "    \n",
    "def resize_images(*images):\n",
    "    # Find the smallest dimensions in the set\n",
    "    min_height = min(image.shape[0] for image in images)\n",
    "    min_width = min(image.shape[1] for image in images)\n",
    "    resized_images = [cv2.resize(img, (min_width, min_height), interpolation=cv2.INTER_AREA) for img in images]\n",
    "    return resized_images\n",
    "\n",
    "# Load your images\n",
    "img1 = cv2.imread('D:/SDP/Imfusion-main/screenshots/medical1.png', cv2.IMREAD_GRAYSCALE)\n",
    "img2 = cv2.imread('D:/SDP/Imfusion-main/screenshots/medical2.png', cv2.IMREAD_GRAYSCALE)\n",
    "fused_img = cv2.imread('D:/SDP/fused_PCA.png', cv2.IMREAD_GRAYSCALE)\n",
    "\n",
    "\n",
    "img1, img2, fused_img = resize_images(img1, img2, fused_img)\n",
    "\n",
    "# Calculate the edge-based similarity measurement\n",
    "qab_f_value = edge_similarity(img1, img2, fused_img)\n",
    "print(f\"Edge-based Similarity Measurement (QAB/F): {qab_f_value}\")\n"
   ]
  },
  {
   "cell_type": "code",
   "execution_count": null,
   "id": "bc0d2ecc-1304-4cf5-9778-079d5f1b4651",
   "metadata": {},
   "outputs": [],
   "source": []
  },
  {
   "cell_type": "code",
   "execution_count": 10,
   "id": "1e0aa653-d534-48b8-96f0-af277df122bc",
   "metadata": {},
   "outputs": [
    {
     "name": "stdout",
     "output_type": "stream",
     "text": [
      "Standard Deviation: 47.137969156076544\n"
     ]
    }
   ],
   "source": [
    "import cv2\n",
    "import numpy as np\n",
    "\n",
    "def calculate_standard_deviation(image):\n",
    "    \"\"\"Calculate the standard deviation of an image.\"\"\"\n",
    "    # Ensure the image is in grayscale\n",
    "    if len(image.shape) != 2:\n",
    "        image = cv2.cvtColor(image, cv2.COLOR_BGR2GRAY)\n",
    "    \n",
    "    # Calculate mean\n",
    "    mean_value = np.mean(image)\n",
    "    # Calculate standard deviation\n",
    "    standard_deviation = np.sqrt(np.mean((image - mean_value) ** 2))\n",
    "    \n",
    "    return standard_deviation\n",
    "\n",
    "# Load your fused image\n",
    "fused_img = cv2.imread('D:/SDP/fused_PCA.png', cv2.IMREAD_GRAYSCALE)\n",
    "\n",
    "# Calculate the standard deviation\n",
    "standard_deviation_value = calculate_standard_deviation(fused_img)\n",
    "print(f\"Standard Deviation: {standard_deviation_value}\")\n"
   ]
  },
  {
   "cell_type": "code",
   "execution_count": null,
   "id": "6682d870-c410-4460-aef6-a92b2feeb917",
   "metadata": {},
   "outputs": [],
   "source": []
  },
  {
   "cell_type": "code",
   "execution_count": 11,
   "id": "5ad056af-7ea8-45ed-83a8-141dce0650a3",
   "metadata": {},
   "outputs": [
    {
     "name": "stdout",
     "output_type": "stream",
     "text": [
      "Spatial Frequency: 28.738310411589946\n"
     ]
    }
   ],
   "source": [
    "import cv2\n",
    "import numpy as np\n",
    "\n",
    "def calculate_spatial_frequency(image):\n",
    "    \"\"\"Calculate the spatial frequency of an image.\"\"\"\n",
    "    # Ensure the image is in grayscale\n",
    "    if len(image.shape) != 2:\n",
    "        image = cv2.cvtColor(image, cv2.COLOR_BGR2GRAY)\n",
    "    \n",
    "    # Calculate differences between adjacent pixels along rows and columns\n",
    "    row_diff = np.diff(image.astype('float'), axis=0)\n",
    "    col_diff = np.diff(image.astype('float'), axis=1)\n",
    "    \n",
    "    # Calculate the squares of differences\n",
    "    RF_squared = np.sum(row_diff ** 2)\n",
    "    CF_squared = np.sum(col_diff ** 2)\n",
    "    \n",
    "    # Calculate row frequency (RF) and column frequency (CF)\n",
    "    RF = np.sqrt(RF_squared / (image.shape[0] * image.shape[1]))\n",
    "    CF = np.sqrt(CF_squared / (image.shape[0] * image.shape[1]))\n",
    "    \n",
    "    # Calculate spatial frequency (SF)\n",
    "    SF = np.sqrt(RF ** 2 + CF ** 2)\n",
    "    \n",
    "    return SF\n",
    "\n",
    "# Load your fused image\n",
    "fused_img = cv2.imread('D:/SDP/fused_PCA.png', cv2.IMREAD_GRAYSCALE)\n",
    "\n",
    "# Calculate the spatial frequency\n",
    "spatial_frequency_value = calculate_spatial_frequency(fused_img)\n",
    "print(f\"Spatial Frequency: {spatial_frequency_value}\")\n"
   ]
  },
  {
   "cell_type": "code",
   "execution_count": null,
   "id": "b5d05139-b640-4691-bc04-92a19c69db79",
   "metadata": {},
   "outputs": [],
   "source": []
  },
  {
   "cell_type": "code",
   "execution_count": 12,
   "id": "612ceacd-fca4-4c72-9cbf-8fb8e431d4d5",
   "metadata": {},
   "outputs": [
    {
     "name": "stdout",
     "output_type": "stream",
     "text": [
      "Edge Intensity: 14970.639532097484\n"
     ]
    }
   ],
   "source": [
    "import cv2\n",
    "import numpy as np\n",
    "\n",
    "def calculate_edge_intensity(image):\n",
    "    \"\"\"Calculate the edge intensity of an image using Sobel operators.\"\"\"\n",
    "    # Ensure the image is in grayscale\n",
    "    if len(image.shape) != 2:\n",
    "        image = cv2.cvtColor(image, cv2.COLOR_BGR2GRAY)\n",
    "    \n",
    "    # Sobel operators to find horizontal and vertical gradients\n",
    "    sobel_x = cv2.Sobel(image, cv2.CV_64F, 1, 0, ksize=3)\n",
    "    sobel_y = cv2.Sobel(image, cv2.CV_64F, 0, 1, ksize=3)\n",
    "    \n",
    "    # Calculate the squares of gradients\n",
    "    S2x = np.sum(sobel_x**2)\n",
    "    S2y = np.sum(sobel_y**2)\n",
    "    \n",
    "    # Calculate Edge Intensity\n",
    "    EI = np.sqrt(S2x + S2y)\n",
    "    \n",
    "    return EI\n",
    "\n",
    "# Load your fused image\n",
    "fused_img = cv2.imread('D:/SDP/fused_PCA.png', cv2.IMREAD_GRAYSCALE)\n",
    "\n",
    "# Calculate the edge intensity\n",
    "edge_intensity_value = calculate_edge_intensity(fused_img)\n",
    "print(f\"Edge Intensity: {edge_intensity_value}\")\n"
   ]
  },
  {
   "cell_type": "code",
   "execution_count": null,
   "id": "f634f528-8f64-44d4-9c15-19a01fe763cf",
   "metadata": {},
   "outputs": [],
   "source": []
  },
  {
   "cell_type": "code",
   "execution_count": null,
   "id": "b424504d-1d14-451a-ae7e-7c4a23822531",
   "metadata": {},
   "outputs": [],
   "source": []
  }
 ],
 "metadata": {
  "kernelspec": {
   "display_name": "Python 3 (ipykernel)",
   "language": "python",
   "name": "python3"
  },
  "language_info": {
   "codemirror_mode": {
    "name": "ipython",
    "version": 3
   },
   "file_extension": ".py",
   "mimetype": "text/x-python",
   "name": "python",
   "nbconvert_exporter": "python",
   "pygments_lexer": "ipython3",
   "version": "3.11.8"
  }
 },
 "nbformat": 4,
 "nbformat_minor": 5
}
